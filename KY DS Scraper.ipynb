{
 "cells": [
  {
   "cell_type": "code",
   "execution_count": 52,
   "metadata": {},
   "outputs": [],
   "source": [
    "import requests\n",
    "from bs4 import BeautifulSoup as soup\n",
    "from urllib import parse\n",
    "import os\n",
    "import re"
   ]
  },
  {
   "cell_type": "code",
   "execution_count": 58,
   "metadata": {},
   "outputs": [
    {
     "name": "stdout",
     "output_type": "stream",
     "text": [
      "https://education.ky.gov/districts/tech/sis/Documents/DataStandardAlternativeILPA.pdf\n",
      "https://education.ky.gov/districts/tech/sis/Documents/DataStandard-AlternativeProgramsKECSAC.pdf\n",
      "https://education.ky.gov/districts/tech/sis/Documents/Data_Standard-Alternative_Out_of_District_Services.pdf\n",
      "https://education.ky.gov/districts/tech/sis/Documents/DataStandardAttendance.pdf\n",
      "https://education.ky.gov/districts/tech/sis/Documents/DataStandard-Behavior.pdf\n",
      "https://education.ky.gov/districts/tech/sis/Documents/DataStandardCensus.pdf\n",
      "https://education.ky.gov/districts/tech/sis/Documents/Data_Standard-Census_Teacher_Information.pdf\n",
      "https://education.ky.gov/districts/tech/sis/Documents/Data_Standard-Course.pdf\n",
      "https://education.ky.gov/districts/tech/sis/Documents/Data_Standard_Dual_Credit_Course.pdf\n",
      "https://education.ky.gov/districts/tech/sis/Documents/Data_Standard_eTranscript.pdf\n",
      "https://education.ky.gov/districts/tech/sis/Documents/DataStandardEarlyGraduation.pdf\n",
      "https://education.ky.gov/districts/tech/sis/Documents/DataStandardEarlyLearningPriorSettings.pdf\n",
      "https://education.ky.gov/districts/tech/sis/Documents/Standard-LEP.pdf\n",
      "https://education.ky.gov/districts/tech/sis/Documents/Data_Standard-Enrollment.pdf\n",
      "https://education.ky.gov/districts/tech/sis/Documents/DataStandardFosterCare.pdf\n",
      "https://education.ky.gov/districts/tech/sis/Documents/DataStandard-FRAM.pdf\n",
      "https://education.ky.gov/districts/tech/sis/Documents/Data_Standard-FRYSC.pdf\n",
      "https://education.ky.gov/districts/tech/sis/Documents/DataStandardGiftedandTalented.pdf\n",
      "https://education.ky.gov/districts/tech/sis/Documents/DataStandard-Grades.pdf\n",
      "https://education.ky.gov/districts/tech/sis/Documents/Data_Standard-Graduation.pdf\n",
      "https://education.ky.gov/districts/tech/sis/Documents/DataStandardHealth.pdf\n",
      "https://education.ky.gov/districts/tech/sis/Documents/DataStandard-Homeless.pdf\n",
      "https://education.ky.gov/districts/tech/sis/Documents/DataStandardImmigrant.pdf\n",
      "https://education.ky.gov/districts/tech/sis/Documents/2018-19DataStandard-InterventionESSorOptional.pdf\n",
      "https://education.ky.gov/districts/tech/sis/Documents/2018-19DataStandard-InterventionMAForRTA.pdf\n",
      "https://education.ky.gov/districts/tech/sis/Documents/DataStandardPreschool.pdf\n",
      "https://education.ky.gov/districts/tech/sis/Documents/Standard-Special_Education-Processes.pdf\n",
      "https://education.ky.gov/districts/tech/sis/Documents/Standard-Special_Education-KY_Conference_Summary.pdf\n",
      "https://education.ky.gov/districts/tech/sis/Documents/Standard-Special_Education-KY_Referral.pdf\n",
      "https://education.ky.gov/districts/tech/sis/Documents/Standard-Special_Education-KY_Consent_for_Evaluation.pdf\n",
      "https://education.ky.gov/districts/tech/sis/Documents/Standard-Special_Education-KY_Evaluation_Eligibility_Determination.pdf\n",
      "https://education.ky.gov/districts/tech/sis/Documents/Standard-Special_Education-IEP_PSP.pdf\n",
      "https://education.ky.gov/districts/tech/sis/Documents/Standard-Special_Education-Preschool.pdf\n",
      "https://education.ky.gov/districts/tech/sis/Documents/Data_Standard_Student_Records_Transfer.pdf\n",
      "https://education.ky.gov/districts/tech/sis/Documents/DataStandardSystemAdmin.pdf\n",
      "https://education.ky.gov/districts/tech/sis/Documents/Data_Standard-Teacher_of_Record.pdf\n",
      "https://education.ky.gov/districts/tech/sis/Documents/Data_Standard-TEDS.pdf\n",
      "https://education.ky.gov/districts/tech/sis/Documents/DataStandardTitleI.pdf\n",
      "https://education.ky.gov/districts/tech/sis/Documents/DataStandardTransportation.pdf\n",
      "https://education.ky.gov/districts/tech/sis/Documents/EOC_Assessment_setup_for_calculating_final_grade.pdf\n",
      "https://education.ky.gov/districts/tech/sis/Documents/EOY_Graduate_Code_Official_2016.pdf\n",
      "https://education.ky.gov/districts/tech/sis/Documents/EPSB_License_Numbers_In_Campus.pdf\n",
      "https://education.ky.gov/districts/tech/sis/Documents/Grades_Configurations_For_Various_Term_Structures.pdf\n",
      "https://education.ky.gov/districts/tech/sis/Documents/OtherProceduralDocumentatoin-HealthDataEntryforEOYrepts.pdf\n",
      "https://education.ky.gov/districts/tech/sis/Documents/Residential_Academy_IC_Setup_Home_School.pdf\n",
      "https://education.ky.gov/districts/tech/sis/Documents/Partial-Week_Full-Funding_Attendance-Tracking.pdf\n",
      "https://education.ky.gov/districts/tech/sis/Documents/IC_Staff_Locator_Instructions.pdf\n",
      "https://education.ky.gov/districts/tech/sis/Documents/OtherProceduralDocumentation-SupplementaryImmunizationDataEntry.pdf\n",
      "https://education.ky.gov/districts/tech/sis/Documents/UserGuideNoShows.pdf\n",
      "https://education.ky.gov/districts/tech/sis/Documents/VirtualandPerformanceTrainingDocument_.pdf\n",
      "all pdf imported\n"
     ]
    }
   ],
   "source": [
    "r_url = 'https://education.ky.gov/districts/tech/sis/Pages/KSIS-Data-Standards.aspx'\n",
    "base_url = 'https://education.ky.gov'\n",
    "\n",
    "response = requests.get(r_url)\n",
    "data = response.text\n",
    "\n",
    "linkname = re.findall(r\"\\w+.pdf\", data)\n",
    "\n",
    "\n",
    "bs = soup(data)\n",
    "links = bs.findAll('a')\n",
    "n_pdfs= 1\n",
    "for link in links:\n",
    "    try:\n",
    "        if link['href'][-4:]=='.pdf':\n",
    "            n_pdfs+= 1\n",
    "            content = requests.get(parse.urljoin(base_url, link['href']))\n",
    "            print(parse.urljoin(base_url, link['href']))\n",
    "        \n",
    "            with open((linkname[n_pdfs]), 'wb') as pdf:\n",
    "                pdf.write(content.content)\n",
    "    except(IndexError):\n",
    "        print(\"all pdf imported\")"
   ]
  },
  {
   "cell_type": "code",
   "execution_count": 51,
   "metadata": {},
   "outputs": [
    {
     "data": {
      "text/plain": [
       "['pptx|pdf',\n",
       " 'DataStandardAlternativeILPA.pdf',\n",
       " 'AlternativeProgramsKECSAC.pdf',\n",
       " 'Alternative_Out_of_District_Services.pdf',\n",
       " 'DataStandardAttendance.pdf',\n",
       " 'Behavior.pdf',\n",
       " 'DataStandardCensus.pdf',\n",
       " 'Census_Teacher_Information.pdf',\n",
       " 'Course.pdf',\n",
       " 'Data_Standard_Dual_Credit_Course.pdf',\n",
       " 'Data_Standard_eTranscript.pdf',\n",
       " 'DataStandardEarlyGraduation.pdf',\n",
       " 'DataStandardEarlyLearningPriorSettings.pdf',\n",
       " 'LEP.pdf',\n",
       " 'Enrollment.pdf',\n",
       " 'DataStandardFosterCare.pdf',\n",
       " 'FRAM.pdf',\n",
       " 'FRYSC.pdf',\n",
       " 'DataStandardGiftedandTalented.pdf',\n",
       " 'Grades.pdf',\n",
       " 'Graduation.pdf',\n",
       " 'DataStandardHealth.pdf',\n",
       " 'Homeless.pdf',\n",
       " 'DataStandardImmigrant.pdf',\n",
       " 'InterventionESSorOptional.pdf',\n",
       " 'InterventionMAForRTA.pdf',\n",
       " 'DataStandardPreschool.pdf',\n",
       " 'Processes.pdf',\n",
       " 'KY_Conference_Summary.pdf',\n",
       " 'KY_Referral.pdf',\n",
       " 'KY_Consent_for_Evaluation.pdf',\n",
       " 'KY_Evaluation_Eligibility_Determination.pdf',\n",
       " 'IEP_PSP.pdf',\n",
       " 'Preschool.pdf',\n",
       " 'Data_Standard_Student_Records_Transfer.pdf',\n",
       " 'DataStandardSystemAdmin.pdf',\n",
       " 'Teacher_of_Record.pdf',\n",
       " 'TEDS.pdf',\n",
       " 'DataStandardTitleI.pdf',\n",
       " 'DataStandardTransportation.pdf',\n",
       " 'EOC_Assessment_setup_for_calculating_final_grade.pdf',\n",
       " 'EOY_Graduate_Code_Official_2016.pdf',\n",
       " 'EPSB_License_Numbers_In_Campus.pdf',\n",
       " 'Grades_Configurations_For_Various_Term_Structures.pdf',\n",
       " 'HealthDataEntryforEOYrepts.pdf',\n",
       " 'Residential_Academy_IC_Setup_Home_School.pdf',\n",
       " 'Tracking.pdf',\n",
       " 'IC_Staff_Locator_Instructions.pdf',\n",
       " 'SupplementaryImmunizationDataEntry.pdf',\n",
       " 'UserGuideNoShows.pdf',\n",
       " 'VirtualandPerformanceTrainingDocument_.pdf']"
      ]
     },
     "execution_count": 51,
     "metadata": {},
     "output_type": "execute_result"
    }
   ],
   "source": [
    "linkname = re.findall(r\"\\w+.pdf\", data)\n",
    "linkname"
   ]
  }
 ],
 "metadata": {
  "kernelspec": {
   "display_name": "Python 3",
   "language": "python",
   "name": "python3"
  },
  "language_info": {
   "codemirror_mode": {
    "name": "ipython",
    "version": 3
   },
   "file_extension": ".py",
   "mimetype": "text/x-python",
   "name": "python",
   "nbconvert_exporter": "python",
   "pygments_lexer": "ipython3",
   "version": "3.7.0"
  }
 },
 "nbformat": 4,
 "nbformat_minor": 2
}
